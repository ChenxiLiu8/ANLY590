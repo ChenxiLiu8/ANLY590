{
  "nbformat": 4,
  "nbformat_minor": 0,
  "metadata": {
    "colab": {
      "name": "Copy_of_keras_lab_chenxi_liu.ipynb",
      "provenance": [],
      "include_colab_link": true
    },
    "kernelspec": {
      "name": "python3",
      "display_name": "Python 3"
    },
    "accelerator": "TPU",
    "widgets": {
      "application/vnd.jupyter.widget-state+json": {
        "18c53e0a72b94f34a0175e5e41c0d4b5": {
          "model_module": "@jupyter-widgets/controls",
          "model_name": "HBoxModel",
          "state": {
            "_view_name": "HBoxView",
            "_dom_classes": [],
            "_model_name": "HBoxModel",
            "_view_module": "@jupyter-widgets/controls",
            "_model_module_version": "1.5.0",
            "_view_count": null,
            "_view_module_version": "1.5.0",
            "box_style": "",
            "layout": "IPY_MODEL_0377465081fe488f9a535317451bfb1d",
            "_model_module": "@jupyter-widgets/controls",
            "children": [
              "IPY_MODEL_d3b586e18fa749ea98c974f0b86affc8",
              "IPY_MODEL_4bac4d7f00b74dc08eff065771610e8f"
            ]
          }
        },
        "0377465081fe488f9a535317451bfb1d": {
          "model_module": "@jupyter-widgets/base",
          "model_name": "LayoutModel",
          "state": {
            "_view_name": "LayoutView",
            "grid_template_rows": null,
            "right": null,
            "justify_content": null,
            "_view_module": "@jupyter-widgets/base",
            "overflow": null,
            "_model_module_version": "1.2.0",
            "_view_count": null,
            "flex_flow": null,
            "width": null,
            "min_width": null,
            "border": null,
            "align_items": null,
            "bottom": null,
            "_model_module": "@jupyter-widgets/base",
            "top": null,
            "grid_column": null,
            "overflow_y": null,
            "overflow_x": null,
            "grid_auto_flow": null,
            "grid_area": null,
            "grid_template_columns": null,
            "flex": null,
            "_model_name": "LayoutModel",
            "justify_items": null,
            "grid_row": null,
            "max_height": null,
            "align_content": null,
            "visibility": null,
            "align_self": null,
            "height": null,
            "min_height": null,
            "padding": null,
            "grid_auto_rows": null,
            "grid_gap": null,
            "max_width": null,
            "order": null,
            "_view_module_version": "1.2.0",
            "grid_template_areas": null,
            "object_position": null,
            "object_fit": null,
            "grid_auto_columns": null,
            "margin": null,
            "display": null,
            "left": null
          }
        },
        "d3b586e18fa749ea98c974f0b86affc8": {
          "model_module": "@jupyter-widgets/controls",
          "model_name": "FloatProgressModel",
          "state": {
            "_view_name": "ProgressView",
            "style": "IPY_MODEL_61579396304947db8d79c3df0b1729bb",
            "_dom_classes": [],
            "description": "Dl Completed...: 100%",
            "_model_name": "FloatProgressModel",
            "bar_style": "success",
            "max": 4,
            "_view_module": "@jupyter-widgets/controls",
            "_model_module_version": "1.5.0",
            "value": 4,
            "_view_count": null,
            "_view_module_version": "1.5.0",
            "orientation": "horizontal",
            "min": 0,
            "description_tooltip": null,
            "_model_module": "@jupyter-widgets/controls",
            "layout": "IPY_MODEL_64827704b4144950ba1d7ead5dcb150c"
          }
        },
        "4bac4d7f00b74dc08eff065771610e8f": {
          "model_module": "@jupyter-widgets/controls",
          "model_name": "HTMLModel",
          "state": {
            "_view_name": "HTMLView",
            "style": "IPY_MODEL_e88b0c22801e4ac8a520bc1cb622521e",
            "_dom_classes": [],
            "description": "",
            "_model_name": "HTMLModel",
            "placeholder": "​",
            "_view_module": "@jupyter-widgets/controls",
            "_model_module_version": "1.5.0",
            "value": " 4/4 [18:14&lt;00:00, 273.62s/ file]",
            "_view_count": null,
            "_view_module_version": "1.5.0",
            "description_tooltip": null,
            "_model_module": "@jupyter-widgets/controls",
            "layout": "IPY_MODEL_e1840a4341e948139737889e77ac6f94"
          }
        },
        "61579396304947db8d79c3df0b1729bb": {
          "model_module": "@jupyter-widgets/controls",
          "model_name": "ProgressStyleModel",
          "state": {
            "_view_name": "StyleView",
            "_model_name": "ProgressStyleModel",
            "description_width": "initial",
            "_view_module": "@jupyter-widgets/base",
            "_model_module_version": "1.5.0",
            "_view_count": null,
            "_view_module_version": "1.2.0",
            "bar_color": null,
            "_model_module": "@jupyter-widgets/controls"
          }
        },
        "64827704b4144950ba1d7ead5dcb150c": {
          "model_module": "@jupyter-widgets/base",
          "model_name": "LayoutModel",
          "state": {
            "_view_name": "LayoutView",
            "grid_template_rows": null,
            "right": null,
            "justify_content": null,
            "_view_module": "@jupyter-widgets/base",
            "overflow": null,
            "_model_module_version": "1.2.0",
            "_view_count": null,
            "flex_flow": null,
            "width": null,
            "min_width": null,
            "border": null,
            "align_items": null,
            "bottom": null,
            "_model_module": "@jupyter-widgets/base",
            "top": null,
            "grid_column": null,
            "overflow_y": null,
            "overflow_x": null,
            "grid_auto_flow": null,
            "grid_area": null,
            "grid_template_columns": null,
            "flex": null,
            "_model_name": "LayoutModel",
            "justify_items": null,
            "grid_row": null,
            "max_height": null,
            "align_content": null,
            "visibility": null,
            "align_self": null,
            "height": null,
            "min_height": null,
            "padding": null,
            "grid_auto_rows": null,
            "grid_gap": null,
            "max_width": null,
            "order": null,
            "_view_module_version": "1.2.0",
            "grid_template_areas": null,
            "object_position": null,
            "object_fit": null,
            "grid_auto_columns": null,
            "margin": null,
            "display": null,
            "left": null
          }
        },
        "e88b0c22801e4ac8a520bc1cb622521e": {
          "model_module": "@jupyter-widgets/controls",
          "model_name": "DescriptionStyleModel",
          "state": {
            "_view_name": "StyleView",
            "_model_name": "DescriptionStyleModel",
            "description_width": "",
            "_view_module": "@jupyter-widgets/base",
            "_model_module_version": "1.5.0",
            "_view_count": null,
            "_view_module_version": "1.2.0",
            "_model_module": "@jupyter-widgets/controls"
          }
        },
        "e1840a4341e948139737889e77ac6f94": {
          "model_module": "@jupyter-widgets/base",
          "model_name": "LayoutModel",
          "state": {
            "_view_name": "LayoutView",
            "grid_template_rows": null,
            "right": null,
            "justify_content": null,
            "_view_module": "@jupyter-widgets/base",
            "overflow": null,
            "_model_module_version": "1.2.0",
            "_view_count": null,
            "flex_flow": null,
            "width": null,
            "min_width": null,
            "border": null,
            "align_items": null,
            "bottom": null,
            "_model_module": "@jupyter-widgets/base",
            "top": null,
            "grid_column": null,
            "overflow_y": null,
            "overflow_x": null,
            "grid_auto_flow": null,
            "grid_area": null,
            "grid_template_columns": null,
            "flex": null,
            "_model_name": "LayoutModel",
            "justify_items": null,
            "grid_row": null,
            "max_height": null,
            "align_content": null,
            "visibility": null,
            "align_self": null,
            "height": null,
            "min_height": null,
            "padding": null,
            "grid_auto_rows": null,
            "grid_gap": null,
            "max_width": null,
            "order": null,
            "_view_module_version": "1.2.0",
            "grid_template_areas": null,
            "object_position": null,
            "object_fit": null,
            "grid_auto_columns": null,
            "margin": null,
            "display": null,
            "left": null
          }
        }
      }
    }
  },
  "cells": [
    {
      "cell_type": "markdown",
      "metadata": {
        "id": "view-in-github",
        "colab_type": "text"
      },
      "source": [
        "<a href=\"https://colab.research.google.com/github/ChenxiLiu8/ANLY590/blob/master/Copy_of_keras_lab_chenxi_liu.ipynb\" target=\"_parent\"><img src=\"https://colab.research.google.com/assets/colab-badge.svg\" alt=\"Open In Colab\"/></a>"
      ]
    },
    {
      "cell_type": "code",
      "metadata": {
        "id": "jS47B8K0JLkx"
      },
      "source": [
        "import tensorflow as tf\n",
        "import tensorflow.keras as tfk\n",
        "import tensorflow.keras.layers as tfkl\n",
        "import numpy as np\n",
        "import matplotlib.pyplot as plt"
      ],
      "execution_count": 2,
      "outputs": []
    },
    {
      "cell_type": "markdown",
      "metadata": {
        "id": "iehoGWa6SSWU"
      },
      "source": [
        "### regression\n",
        "\n",
        "Let's start by using `keras` to make a neural network for a simple regression task where both the input and the output as 1-dimensional. Below is some code that will produce the dataset for you to train on.\n",
        "\n",
        "Here are some general steps to follow:\n",
        "1. Define your model by passing `tfk.Sequential` a list of layers (found in `tf.keras.layers`, which is already imported for you by the shorter name `tfkl`, since you will use this module many times.\n",
        "2. Your first layers should be a `tfkl.Input` layer that specifies the shape of the input (it will automatically include an empty first dimension with size `None` as a placehold for the batch size).\n",
        "3. The rest of your layers should be `tfkl.Dense` layers; you will be to specify the number of neurons/units as well as the activation function (you can find those in `tf.nn`, and you can use `None` for a \"linear\" activation function, $f(x)=x$). Make sure you pick an output function that makes sense for this prediction task!\n",
        "4. Choose an appropriate optimizer from `tfk.optimizers` and an appropriate loss function from `tfk.losses` (both are classes that wil need to be initialized), and then pass them to `model.compile` to compile your model.\n",
        "5. Call `model.fit` to fit your model and collect the results\n",
        "6. Plot your training curve (loss vs training step)\n",
        "7. Call your model (`model(...)`) on a grid of inputs (code to make the grid provided) and plot the relationship your model learned against the true relationship (defined as `f` in the code below)."
      ]
    },
    {
      "cell_type": "code",
      "metadata": {
        "id": "HDgsWoAKJbxz",
        "outputId": "91df4f00-c76d-48f9-b1c5-dc5f926ce8d7",
        "colab": {
          "base_uri": "https://localhost:8080/",
          "height": 265
        }
      },
      "source": [
        "def regression_data(N):\n",
        "    x = np.random.uniform(low=-5.0, high=5.0, size=(N, 1)).astype(np.float32)\n",
        "    e = 0.2 * np.random.normal(size=(N, 1)).astype(np.float32)\n",
        "    f = lambda x: 0.2 * x**2 * np.sin(2 * np.pi * x / 6)\n",
        "    y = f(x) + e\n",
        "    return x, y\n",
        "\n",
        "N = 100\n",
        "x_train,y_train =  regression_data(100)\n",
        "x_test,y_test = regression_data(100)\n",
        "\n",
        "plt.scatter(x, y, s=10)\n",
        "plt.show()"
      ],
      "execution_count": 10,
      "outputs": [
        {
          "output_type": "display_data",
          "data": {
            "image/png": "[encoded data removed]",
            "text/plain": [
              "<Figure size 432x288 with 1 Axes>"
            ]
          },
          "metadata": {
            "tags": [],
            "needs_background": "light"
          }
        }
      ]
    },
    {
      "cell_type": "code",
      "metadata": {
        "id": "vBzgG7E0KmFR",
        "outputId": "365756f9-3519-4826-b75e-524e4069e362",
        "colab": {
          "base_uri": "https://localhost:8080/",
          "height": 595
        }
      },
      "source": [
        "# your code here\n",
        "a=tf.nn.relu\n",
        "model=tfk.Sequential([\n",
        "    tfkl.Input((1,)),\n",
        "    tfkl.Dense(100,activation=a),\n",
        "    tfkl.Dense(20,activation=a),\n",
        "    tfkl.Dense(1,activation=None)\n",
        "])\n",
        "\n",
        "model.summary()\n",
        "\n",
        "cbs=[tfk.callbacks.EarlyStopping(min_delta=0.01, patience=2)]\n",
        "\n",
        "ds_train =tf.data.Dataset.from_tensor_slices((x_train,y_train)).batch(32).repeat().prefetch(10)\n",
        "ds_test =tf.data.Dataset.from_tensor_slices((x_train,y_train)).batch(100).repeat().prefetch(10)\n",
        "\n",
        "loss=tfk.losses.MeanSquaredError()\n",
        "opt=tfk.optimizers.Adam()\n",
        "model.compile(opt,loss)\n",
        "\n",
        "result=model.fit(ds_train,steps_per_epoch=100, epochs=10000, callbacks=cbs, validation_data=ds_test, validation_steps=1)"
      ],
      "execution_count": 11,
      "outputs": [
        {
          "output_type": "stream",
          "text": [
            "Model: \"sequential_2\"\n",
            "_________________________________________________________________\n",
            "Layer (type)                 Output Shape              Param #   \n",
            "=================================================================\n",
            "dense_6 (Dense)              (None, 100)               200       \n",
            "_________________________________________________________________\n",
            "dense_7 (Dense)              (None, 20)                2020      \n",
            "_________________________________________________________________\n",
            "dense_8 (Dense)              (None, 1)                 21        \n",
            "=================================================================\n",
            "Total params: 2,241\n",
            "Trainable params: 2,241\n",
            "Non-trainable params: 0\n",
            "_________________________________________________________________\n",
            "Epoch 1/10000\n",
            "100/100 [==============================] - 0s 2ms/step - loss: 1.9479 - val_loss: 1.5644\n",
            "Epoch 2/10000\n",
            "100/100 [==============================] - 0s 1ms/step - loss: 1.3425 - val_loss: 1.0798\n",
            "Epoch 3/10000\n",
            "100/100 [==============================] - 0s 1ms/step - loss: 0.8105 - val_loss: 0.5422\n",
            "Epoch 4/10000\n",
            "100/100 [==============================] - 0s 1ms/step - loss: 0.3604 - val_loss: 0.2071\n",
            "Epoch 5/10000\n",
            "100/100 [==============================] - 0s 1ms/step - loss: 0.1356 - val_loss: 0.0850\n",
            "Epoch 6/10000\n",
            "100/100 [==============================] - 0s 1ms/step - loss: 0.0693 - val_loss: 0.0574\n",
            "Epoch 7/10000\n",
            "100/100 [==============================] - 0s 1ms/step - loss: 0.0534 - val_loss: 0.0491\n",
            "Epoch 8/10000\n",
            "100/100 [==============================] - 0s 1ms/step - loss: 0.0473 - val_loss: 0.0451\n",
            "Epoch 9/10000\n",
            "100/100 [==============================] - 0s 1ms/step - loss: 0.0446 - val_loss: 0.0432\n",
            "Epoch 10/10000\n",
            "100/100 [==============================] - 0s 1ms/step - loss: 0.0431 - val_loss: 0.0422\n"
          ],
          "name": "stdout"
        }
      ]
    },
    {
      "cell_type": "code",
      "metadata": {
        "id": "wMwQU0-lHLoB",
        "outputId": "6bb28422-5db4-43a1-d153-5b5665516591",
        "colab": {
          "base_uri": "https://localhost:8080/",
          "height": 282
        }
      },
      "source": [
        "plt.plot(result.history['loss'])\n",
        "plt.plot(result.history['val_loss'])"
      ],
      "execution_count": 13,
      "outputs": [
        {
          "output_type": "execute_result",
          "data": {
            "text/plain": [
              "[<matplotlib.lines.Line2D at 0x7f26aea47198>]"
            ]
          },
          "metadata": {
            "tags": []
          },
          "execution_count": 13
        },
        {
          "output_type": "display_data",
          "data": {
            "image/png": "[encoded data removed]",
            "text/plain": [
              "<Figure size 432x288 with 1 Axes>"
            ]
          },
          "metadata": {
            "tags": [],
            "needs_background": "light"
          }
        }
      ]
    },
    {
      "cell_type": "code",
      "metadata": {
        "id": "pULO0BniMAL2",
        "outputId": "eb4d4592-7801-455d-87b6-acecc872c988",
        "colab": {
          "base_uri": "https://localhost:8080/",
          "height": 265
        }
      },
      "source": [
        "f = lambda x: 0.2 * x**2 * np.sin(2 * np.pi * x / 6)\n",
        "x_grid = np.linspace(x.min(), x.max(), 200).astype(np.float32)[:, np.newaxis]\n",
        "y_true = f(x_grid)\n",
        "y_hat = model(x_grid)\n",
        "plt.scatter(x,y,s=10)\n",
        "plt.plot([],[])\n",
        "plt.plot(x_grid,y_true,label = 'true')\n",
        "plt.plot(x_grid,y_hat, label = 'predicted')\n",
        "plt.legend()\n",
        "plt.show()"
      ],
      "execution_count": 14,
      "outputs": [
        {
          "output_type": "display_data",
          "data": {
            "image/png": "[encoded data removed]",
            "text/plain": [
              "<Figure size 432x288 with 1 Axes>"
            ]
          },
          "metadata": {
            "tags": [],
            "needs_background": "light"
          }
        }
      ]
    },
    {
      "cell_type": "markdown",
      "metadata": {
        "id": "Dc59MczHVrc9"
      },
      "source": [
        "### binary classification\n",
        "\n",
        "Here is another dataset that differs in two key ways from the regression example we just worked:\n",
        "1. The input is now 2-dimensional\n",
        "2. The targets are now binary classes\n",
        "\n",
        "Update your model to handle both of these changes and try fitting this new data. Think about the following:\n",
        "- input shape\n",
        "- output function\n",
        "- loss function\n",
        "\n",
        "Since visualizing the results is a bit tricky, we have provided some code for that."
      ]
    },
    {
      "cell_type": "code",
      "metadata": {
        "id": "NMg8n9NRGo_9",
        "outputId": "da65f22d-3183-4488-caa9-f4f07a3fb304",
        "colab": {
          "base_uri": "https://localhost:8080/",
          "height": 428
        }
      },
      "source": [
        "N = 200\n",
        "def binary_classification_data(N):\n",
        "    x = np.random.uniform(low=-5, high=5, size=(N, 2))\n",
        "    y = (x[:, 0] * x[:, 1] > 0).astype(np.int)\n",
        "    return x, y\n",
        "\n",
        "x_train, y_train = binary_classification_data(N)\n",
        "x_test, y_test = binary_classification_data(N)\n",
        "\n",
        "plt.figure(figsize=(7, 7))\n",
        "plt.scatter(x_train[:, 0], x_train[:, 1], s=10, c=y_train, cmap='coolwarm')\n",
        "plt.show()"
      ],
      "execution_count": 15,
      "outputs": [
        {
          "output_type": "display_data",
          "data": {
            "image/png": "[encoded data removed]",
            "text/plain": [
              "<Figure size 504x504 with 1 Axes>"
            ]
          },
          "metadata": {
            "tags": [],
            "needs_background": "light"
          }
        }
      ]
    },
    {
      "cell_type": "code",
      "metadata": {
        "id": "t4P6Ez3VJzQk",
        "outputId": "982abe1d-d831-42b8-e0df-9e608fc22721",
        "colab": {
          "base_uri": "https://localhost:8080/",
          "height": 629
        }
      },
      "source": [
        "# your code here\n",
        "a = tf.nn.softplus\n",
        "\n",
        "model = tfk.Sequential([\n",
        "    tfkl.Input((2,)),\n",
        "    tfkl.Dense(100, activation = a),\n",
        "    tfkl.Dense(20, activation = a),\n",
        "    tfkl.Dense(1, activation = tf.nn.sigmoid)\n",
        "])\n",
        "model.summary()\n",
        "\n",
        "model.compile(optimizer = tfk.optimizers.Adam(), loss = tfk.losses.BinaryCrossentropy())\n",
        "\n",
        "ds_train =tf.data.Dataset.from_tensor_slices((x_train,y_train)).batch(32).repeat().prefetch(10)\n",
        "ds_test =tf.data.Dataset.from_tensor_slices((x_train,y_train)).batch(100).repeat().prefetch(10)\n",
        "\n",
        "result=model.fit(ds_train,steps_per_epoch=100, epochs=10000, callbacks=cbs, validation_data=ds_test, validation_steps=1)"
      ],
      "execution_count": 16,
      "outputs": [
        {
          "output_type": "stream",
          "text": [
            "Model: \"sequential_3\"\n",
            "_________________________________________________________________\n",
            "Layer (type)                 Output Shape              Param #   \n",
            "=================================================================\n",
            "dense_9 (Dense)              (None, 100)               300       \n",
            "_________________________________________________________________\n",
            "dense_10 (Dense)             (None, 20)                2020      \n",
            "_________________________________________________________________\n",
            "dense_11 (Dense)             (None, 1)                 21        \n",
            "=================================================================\n",
            "Total params: 2,341\n",
            "Trainable params: 2,341\n",
            "Non-trainable params: 0\n",
            "_________________________________________________________________\n",
            "Epoch 1/10000\n",
            "100/100 [==============================] - 0s 2ms/step - loss: 0.6481 - val_loss: 0.4931\n",
            "Epoch 2/10000\n",
            "100/100 [==============================] - 0s 1ms/step - loss: 0.3775 - val_loss: 0.2476\n",
            "Epoch 3/10000\n",
            "100/100 [==============================] - 0s 1ms/step - loss: 0.2051 - val_loss: 0.1541\n",
            "Epoch 4/10000\n",
            "100/100 [==============================] - 0s 1ms/step - loss: 0.1386 - val_loss: 0.1135\n",
            "Epoch 5/10000\n",
            "100/100 [==============================] - 0s 1ms/step - loss: 0.1075 - val_loss: 0.0887\n",
            "Epoch 6/10000\n",
            "100/100 [==============================] - 0s 1ms/step - loss: 0.0898 - val_loss: 0.0727\n",
            "Epoch 7/10000\n",
            "100/100 [==============================] - 0s 1ms/step - loss: 0.0764 - val_loss: 0.0619\n",
            "Epoch 8/10000\n",
            "100/100 [==============================] - 0s 1ms/step - loss: 0.0670 - val_loss: 0.0541\n",
            "Epoch 9/10000\n",
            "100/100 [==============================] - 0s 1ms/step - loss: 0.0606 - val_loss: 0.0467\n",
            "Epoch 10/10000\n",
            "100/100 [==============================] - 0s 1ms/step - loss: 0.0549 - val_loss: 0.0421\n",
            "Epoch 11/10000\n",
            "100/100 [==============================] - 0s 1ms/step - loss: 0.0494 - val_loss: 0.0382\n"
          ],
          "name": "stdout"
        }
      ]
    },
    {
      "cell_type": "code",
      "metadata": {
        "id": "5ZUclc8PKqEC",
        "outputId": "cc0bd3de-d796-475d-a1e9-d38293f5912e",
        "colab": {
          "base_uri": "https://localhost:8080/",
          "height": 269
        }
      },
      "source": [
        "def binary_preds(model, x_minmax=5):\n",
        "  x_grid = np.linspace(-x_minmax, x_minmax, 100)\n",
        "  mesh = np.meshgrid(x_grid, x_grid)\n",
        "  xs_grid = np.stack(mesh, axis=-1)\n",
        "  yhat = model(xs_grid).numpy().squeeze()\n",
        "\n",
        "\n",
        "  plt.imshow(yhat, cmap='coolwarm')\n",
        "  plt.colorbar()\n",
        "\n",
        "binary_preds(model)"
      ],
      "execution_count": 17,
      "outputs": [
        {
          "output_type": "display_data",
          "data": {
            "image/png": "[encoded data removed]",
            "text/plain": [
              "<Figure size 432x288 with 2 Axes>"
            ]
          },
          "metadata": {
            "tags": [],
            "needs_background": "light"
          }
        }
      ]
    },
    {
      "cell_type": "markdown",
      "metadata": {
        "id": "f6NPT8dsWWXW"
      },
      "source": [
        "### general classfication\n",
        "\n",
        "Finally we will download and train on some real data to learn about general classification. Here is some code that will download and show some metadata about the MNIST dataset -- a collectin of handwritten digits.\n",
        "\n",
        "Update your model to work on this data so that you model can predict the digit from its image. One new thing to keep in mind: these inputs are 2D. Later in the course we will learn about convolutional neural nets for handing such inputs more naturally, but for now, update your `tfkl.Input` layer to be 2-dimensional and then add a `tfkl.Flatten()` layer right after it to unravel the 2-d image into a 1-d vector of pixels.\n",
        "\n",
        "Again, visualalizing the output is a bit tricky, so we have provided some code to help."
      ]
    },
    {
      "cell_type": "code",
      "metadata": {
        "id": "TQl7DZmBNvm_",
        "outputId": "7d497ddd-f22a-45e5-b90d-a07a895c38a2",
        "colab": {
          "base_uri": "https://localhost:8080/",
          "height": 647,
          "referenced_widgets": [
            "18c53e0a72b94f34a0175e5e41c0d4b5",
            "0377465081fe488f9a535317451bfb1d",
            "d3b586e18fa749ea98c974f0b86affc8",
            "4bac4d7f00b74dc08eff065771610e8f",
            "61579396304947db8d79c3df0b1729bb",
            "64827704b4144950ba1d7ead5dcb150c",
            "e88b0c22801e4ac8a520bc1cb622521e",
            "e1840a4341e948139737889e77ac6f94"
          ]
        }
      },
      "source": [
        "import tensorflow_datasets as tfds\n",
        "\n",
        "ds, metadata = tfds.load('mnist', with_info=True)\n",
        "print(metadata)"
      ],
      "execution_count": null,
      "outputs": [
        {
          "output_type": "stream",
          "text": [
            "WARNING:absl:Dataset mnist is hosted on GCS. It will automatically be downloaded to your\n",
            "local data directory. If you'd instead prefer to read directly from our public\n",
            "GCS bucket (recommended if you're running on GCP), you can instead set\n",
            "data_dir=gs://tfds-data/datasets.\n",
            "\n"
          ],
          "name": "stderr"
        },
        {
          "output_type": "stream",
          "text": [
            "\u001b[1mDownloading and preparing dataset mnist/3.0.0 (download: 11.06 MiB, generated: Unknown size, total: 11.06 MiB) to /root/tensorflow_datasets/mnist/3.0.0...\u001b[0m\n"
          ],
          "name": "stdout"
        },
        {
          "output_type": "display_data",
          "data": {
            "application/vnd.jupyter.widget-view+json": {
              "model_id": "18c53e0a72b94f34a0175e5e41c0d4b5",
              "version_minor": 0,
              "version_major": 2
            },
            "text/plain": [
              "HBox(children=(FloatProgress(value=0.0, description='Dl Completed...', max=4.0, style=ProgressStyle(descriptio…"
            ]
          },
          "metadata": {
            "tags": []
          }
        },
        {
          "output_type": "stream",
          "text": [
            "\n",
            "\n",
            "\u001b[1mDataset mnist downloaded and prepared to /root/tensorflow_datasets/mnist/3.0.0. Subsequent calls will reuse this data.\u001b[0m\n",
            "tfds.core.DatasetInfo(\n",
            "    name='mnist',\n",
            "    version=3.0.0,\n",
            "    description='The MNIST database of handwritten digits.',\n",
            "    homepage='http://yann.lecun.com/exdb/mnist/',\n",
            "    features=FeaturesDict({\n",
            "        'image': Image(shape=(28, 28, 1), dtype=tf.uint8),\n",
            "        'label': ClassLabel(shape=(), dtype=tf.int64, num_classes=10),\n",
            "    }),\n",
            "    total_num_examples=70000,\n",
            "    splits={\n",
            "        'test': 10000,\n",
            "        'train': 60000,\n",
            "    },\n",
            "    supervised_keys=('image', 'label'),\n",
            "    citation=\"\"\"@article{lecun2010mnist,\n",
            "      title={MNIST handwritten digit database},\n",
            "      author={LeCun, Yann and Cortes, Corinna and Burges, CJ},\n",
            "      journal={ATT Labs [Online]. Available: http://yann. lecun. com/exdb/mnist},\n",
            "      volume={2},\n",
            "      year={2010}\n",
            "    }\"\"\",\n",
            "    redistribution_info=,\n",
            ")\n",
            "\n"
          ],
          "name": "stdout"
        }
      ]
    },
    {
      "cell_type": "code",
      "metadata": {
        "id": "bKre0z2HOCDm",
        "outputId": "52d98fb6-ffcd-4a2f-90df-451ff4ef3555",
        "colab": {
          "base_uri": "https://localhost:8080/",
          "height": 493
        }
      },
      "source": [
        "a=tf.nn.softplus\n",
        "model=tfk.Sequential([\n",
        "    tfkl.Input((28,28,1,)),\n",
        "    tfkl.Flatten(),\n",
        "    tfkl.Dense(100,activation=a),\n",
        "    tfkl.Dense(20,activation=a),\n",
        "    tfkl.Dense(10,activation=tf.nn.softmax)\n",
        "])\n",
        "model.summary()\n",
        "cbs=[tfk.callbacks.EarlyStopping(min_delta=0.01, patience=1)]\n",
        "\n",
        "preprocess = lambda d: (tf.cast(d['image'], tf.float32)/255., d['label'])\n",
        "ds_train =ds['train'].map(preprocess).cache().batch(32).repeat().prefetch(10)\n",
        "ds_test =ds['test'].take(1000).map(preprocess).batch(1000).repeat().prefetch(10)\n",
        "\n",
        "loss=tfk.losses.SparseCategoricalCrossentropy() \n",
        "opt=tfk.optimizers.Adam()\n",
        "\n",
        "model.compile(opt,loss)\n",
        "\n",
        "result=model.fit(ds_train,validation_data = ds_test,\n",
        "                 validation_steps = 1, steps_per_epoch=100, epochs=1000, callbacks=cbs)"
      ],
      "execution_count": null,
      "outputs": [
        {
          "output_type": "stream",
          "text": [
            "Model: \"sequential_19\"\n",
            "_________________________________________________________________\n",
            "Layer (type)                 Output Shape              Param #   \n",
            "=================================================================\n",
            "flatten (Flatten)            (None, 784)               0         \n",
            "_________________________________________________________________\n",
            "dense_47 (Dense)             (None, 100)               78500     \n",
            "_________________________________________________________________\n",
            "dense_48 (Dense)             (None, 20)                2020      \n",
            "_________________________________________________________________\n",
            "dense_49 (Dense)             (None, 10)                210       \n",
            "=================================================================\n",
            "Total params: 80,730\n",
            "Trainable params: 80,730\n",
            "Non-trainable params: 0\n",
            "_________________________________________________________________\n",
            "Epoch 1/1000\n",
            "100/100 [==============================] - 1s 11ms/step - loss: 1.3206 - val_loss: 0.5588\n",
            "Epoch 2/1000\n",
            "100/100 [==============================] - 1s 10ms/step - loss: 0.5057 - val_loss: 0.3803\n",
            "Epoch 3/1000\n",
            "100/100 [==============================] - 1s 10ms/step - loss: 0.4064 - val_loss: 0.3367\n",
            "Epoch 4/1000\n",
            "100/100 [==============================] - 1s 10ms/step - loss: 0.3494 - val_loss: 0.3093\n",
            "Epoch 5/1000\n",
            "100/100 [==============================] - 1s 11ms/step - loss: 0.3294 - val_loss: 0.2879\n",
            "Epoch 6/1000\n",
            "100/100 [==============================] - 1s 9ms/step - loss: 0.3132 - val_loss: 0.2968\n"
          ],
          "name": "stdout"
        }
      ]
    },
    {
      "cell_type": "code",
      "metadata": {
        "id": "oJ17dcdQOt_w",
        "outputId": "416e8d16-3c3f-48c9-bd1c-9f3a95e5e50f",
        "colab": {
          "base_uri": "https://localhost:8080/",
          "height": 713
        }
      },
      "source": [
        "def mnist_viz(model):\n",
        "    ims, labels = next(iter(ds['test'].map(preprocess).batch(10)))\n",
        "    yhat = model(ims)\n",
        "    ypred = tf.argmax(yhat)\n",
        "\n",
        "    plt.figure(figsize=(10, 40))\n",
        "    for i in range(10):\n",
        "        plt.subplot(10, 2, 2*i+1)\n",
        "        plt.imshow(ims[i].numpy().squeeze(), cmap='bone')\n",
        "        plt.subplot(10, 2, 2*i+2)\n",
        "        plt.bar(np.arange(10), yhat[i].numpy())\n",
        "        plt.ylim([0, 1])\n",
        "        plt.show()\n",
        "\n",
        "# your code here\n",
        "mnist_viz(model)"
      ],
      "execution_count": null,
      "outputs": [
        {
          "output_type": "display_data",
          "data": {
            "image/png": "[encoded data removed]",
            "text/plain": [
              "<Figure size 720x2880 with 2 Axes>"
            ]
          },
          "metadata": {
            "tags": [],
            "needs_background": "light"
          }
        },
        {
          "output_type": "display_data",
          "data": {
            "image/png": "[encoded data removed]",
            "text/plain": [
              "<Figure size 432x288 with 2 Axes>"
            ]
          },
          "metadata": {
            "tags": [],
            "needs_background": "light"
          }
        },
        {
          "output_type": "display_data",
          "data": {
            "image/png": "[encoded data removed]",
            "text/plain": [
              "<Figure size 432x288 with 2 Axes>"
            ]
          },
          "metadata": {
            "tags": [],
            "needs_background": "light"
          }
        },
        {
          "output_type": "display_data",
          "data": {
            "image/png": "[encoded data removed]",
            "text/plain": [
              "<Figure size 432x288 with 2 Axes>"
            ]
          },
          "metadata": {
            "tags": [],
            "needs_background": "light"
          }
        },
        {
          "output_type": "display_data",
          "data": {
            "image/png": "[encoded data removed]",
            "text/plain": [
              "<Figure size 432x288 with 2 Axes>"
            ]
          },
          "metadata": {
            "tags": [],
            "needs_background": "light"
          }
        },
        {
          "output_type": "display_data",
          "data": {
            "image/png": "[encoded data removed]",
            "text/plain": [
              "<Figure size 432x288 with 2 Axes>"
            ]
          },
          "metadata": {
            "tags": [],
            "needs_background": "light"
          }
        },
        {
          "output_type": "display_data",
          "data": {
            "image/png": "[encoded data removed]",
            "text/plain": [
              "<Figure size 432x288 with 2 Axes>"
            ]
          },
          "metadata": {
            "tags": [],
            "needs_background": "light"
          }
        },
        {
          "output_type": "display_data",
          "data": {
            "image/png": "[encoded data removed]",
            "text/plain": [
              "<Figure size 432x288 with 2 Axes>"
            ]
          },
          "metadata": {
            "tags": [],
            "needs_background": "light"
          }
        },
        {
          "output_type": "display_data",
          "data": {
            "image/png": "[encoded data removed]",
            "text/plain": [
              "<Figure size 432x288 with 2 Axes>"
            ]
          },
          "metadata": {
            "tags": [],
            "needs_background": "light"
          }
        },
        {
          "output_type": "display_data",
          "data": {
            "image/png": "[encoded data removed]",
            "text/plain": [
              "<Figure size 432x288 with 2 Axes>"
            ]
          },
          "metadata": {
            "tags": [],
            "needs_background": "light"
          }
        }
      ]
    }
  ]
}